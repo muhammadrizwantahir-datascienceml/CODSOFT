{
  "nbformat": 4,
  "nbformat_minor": 0,
  "metadata": {
    "colab": {
      "provenance": [],
      "authorship_tag": "ABX9TyNdfb0hT46MX9XKh5QgLMzP",
      "include_colab_link": true
    },
    "kernelspec": {
      "name": "python3",
      "display_name": "Python 3"
    },
    "language_info": {
      "name": "python"
    }
  },
  "cells": [
    {
      "cell_type": "markdown",
      "metadata": {
        "id": "view-in-github",
        "colab_type": "text"
      },
      "source": [
        "<a href=\"https://colab.research.google.com/github/muhammadrizwantahir-datascienceml/CODSOFT/blob/main/CodSoft_Python_Internship.ipynb\" target=\"_parent\"><img src=\"https://colab.research.google.com/assets/colab-badge.svg\" alt=\"Open In Colab\"/></a>"
      ]
    },
    {
      "cell_type": "markdown",
      "source": [
        "This is being submitted by **Muhammad Rizwan Tahir** from October Batch."
      ],
      "metadata": {
        "id": "ZCKCNnx7pxym"
      }
    },
    {
      "cell_type": "markdown",
      "source": [
        "**Python Task1: CALCULATOR**"
      ],
      "metadata": {
        "id": "dCI37GxRp0XG"
      }
    },
    {
      "cell_type": "code",
      "execution_count": 12,
      "metadata": {
        "colab": {
          "base_uri": "https://localhost:8080/"
        },
        "id": "d528RtoYn_Bd",
        "outputId": "c2e7b4a3-35f6-4dd8-a599-82d62d92777f"
      },
      "outputs": [
        {
          "output_type": "stream",
          "name": "stdout",
          "text": [
            "Select operator:\n",
            "1- Addition\n",
            "2- Subtraction\n",
            "3- Multiplication\n",
            "4- Division\n",
            "\n",
            "Enter your operator from 1 through 4: 2\n",
            "Your first number, please: 10\n",
            "Your second number, please: 15\n",
            "The subtraction of 10.0 and 15.0 is -5.0\n"
          ]
        }
      ],
      "source": [
        "# First lets define functions for basic arithmatic operation. we may do it without defining any functions but its a good practice to make functions\n",
        "\n",
        "#Addition\n",
        "def addition(a, b):\n",
        "    return a + b\n",
        "\n",
        "#Multiplication\n",
        "def multiplication(a, b):\n",
        "    return a * b\n",
        "\n",
        "#Subtraction\n",
        "def subtraction(a, b):\n",
        "    return a - b\n",
        "\n",
        "#Lets send some instruction to the user on the calculator usage\n",
        "\n",
        "print(\"\"\"Select operator:\n",
        "1- Addition\n",
        "2- Subtraction\n",
        "3- Multiplication\n",
        "4- Division\n",
        "\"\"\")\n",
        "\n",
        "#Lets now take input from the user\n",
        "uinput = input(\"Enter your operator from 1 through 4: \")\n",
        "while uinput not in (\"1\", \"2\", \"3\", \"4\"):\n",
        "  print(\"Please read the instruction again! You must enter between 1 and 4!\")\n",
        "  uinput = input(\"Enter your operator from 1 through 4: \")\n",
        "\n",
        "fnum = float(input(\"Your first number, please: \"))\n",
        "snum = float(input(\"Your second number, please: \"))\n",
        "\n",
        "#Lets now put out the condition and do the magic\n",
        "if uinput in (\"1\",\"2\",\"3\",\"4\"):\n",
        "    if uinput  == \"1\":\n",
        "        print(\"The addition of\", fnum, \"and\", snum, \"is\", addition(fnum, snum))\n",
        "    elif uinput == \"2\":\n",
        "        print(\"The subtraction of\", fnum, \"and\", snum, \"is\", subtraction(fnum, snum))\n",
        "    elif uinput == \"3\":\n",
        "        print(\"The multiplication of\", fnum, \"and\", snum, \"is\", multiplication(fnum, snum))\n",
        "    elif uinput == \"4\":\n",
        "        if snum == 0:\n",
        "            print(\"OOPS! Division by zero is not possible\")\n",
        "        else:\n",
        "            print(\"The division of\", fnum, \"and\", snum, \"is\", fnum / snum)\n"
      ]
    },
    {
      "cell_type": "markdown",
      "source": [
        "**Python Task2: PASSWORD GENERATOR**"
      ],
      "metadata": {
        "id": "nrE480OUySFC"
      }
    },
    {
      "cell_type": "code",
      "source": [
        "#Lets first import libraries\n",
        "import random, string\n",
        "\n",
        "#Lets now tell the user what this is about\n",
        "\n",
        "print(\"\"\"This is a Password Generator. Welcome!\n",
        "I am here to help you create a random password of your provided desired length!\n",
        "\"\"\")\n",
        "\n",
        "while True:\n",
        "    try:\n",
        "        plen = int(input(\"What is your desired length for the password: \"))\n",
        "        #lets put a condition to make sure user does not mention 0 or less than that\n",
        "        if plen <= 0:\n",
        "            print(\"Come on! 0 or less than 0 can't be the length!\")\n",
        "        else:\n",
        "            chars = string.ascii_letters + string.digits + string.punctuation\n",
        "            #lets create a variable with an empty list which will be filled by the password\n",
        "\n",
        "            passlist = []\n",
        "            for _ in range(plen):\n",
        "                randchar = random.choice(chars)\n",
        "                passlist.append(randchar)\n",
        "\n",
        "            #Lets now join them\n",
        "            yourpass = ''.join(passlist)\n",
        "            #lets now print it\n",
        "            print(f\"Your requested password is: {yourpass}\")\n",
        "            break\n",
        "    except ValueError:\n",
        "        print(\"What is this? Please enter a valid number...\")\n"
      ],
      "metadata": {
        "colab": {
          "base_uri": "https://localhost:8080/"
        },
        "id": "tUu6uyBKyXJQ",
        "outputId": "31f579d0-df6e-47d2-da96-5662040b406e"
      },
      "execution_count": 16,
      "outputs": [
        {
          "output_type": "stream",
          "name": "stdout",
          "text": [
            "This is a Password Generator. Welcome!\n",
            "I am here to help you create a random password of your provided desired length!\n",
            "\n",
            "What is your desired length for the password: 8\n",
            "Your requested password is: e~K08)Lm\n"
          ]
        }
      ]
    },
    {
      "cell_type": "markdown",
      "source": [
        "**Python Task3: TO-DO LIST**"
      ],
      "metadata": {
        "id": "Ol2hI3Ze35Xe"
      }
    },
    {
      "cell_type": "code",
      "source": [
        "#lets first create an empty list for the tasks\n",
        "taskslist = []\n",
        "\n",
        "# Display the available commands\n",
        "def commands():\n",
        "    print(\"\"\" Here are the options to select from:\n",
        "    1 - Add task\n",
        "    2 - View tasks\n",
        "    3 - Update task\n",
        "    4 - Delete task\n",
        "    5 - Quit it \"\"\")\n",
        "\n",
        "# Here is the function for task addition\n",
        "def taskaddition():\n",
        "    #lets take an input from the user and add that to the empty list we already created above\n",
        "    intask = input(\"Enter the task: \")\n",
        "    taskslist.append(intask)\n",
        "    print(\"WOHOO! The task has been successfully added.\")\n",
        "\n",
        "# Here is the function to view tasks\n",
        "def vtasks():\n",
        "    if taskslist:\n",
        "        print(\"Here are your tasks: \")\n",
        "        for index, task in enumerate(taskslist, start=1):\n",
        "            print(f\"{index}. {task}\")\n",
        "    else:\n",
        "        print(\"No tasks has been found!\")\n",
        "\n",
        "# Here is the function to update tasks\n",
        "def uptask():\n",
        "    vtasks()\n",
        "    if taskslist:\n",
        "        try:\n",
        "            tasknum = int(input(\"Can you please enter the task number you want me to update: \"))\n",
        "            if 1 <= tasknum <= len(taskslist):\n",
        "                taskupdated = input(\"Can you please enter the updated task: \")\n",
        "                taskslist[tasknum - 1] = taskupdated\n",
        "                print(\"The task has been updated successfully!\")\n",
        "            else:\n",
        "                print(\"OOPS! This is an invalid task number!\")\n",
        "        except ValueError:\n",
        "            print(\"Would you please enter a valid integer for the task number! Thanks,\")\n",
        "    else:\n",
        "        print(\"UMMM! There are actually no tasks to update!\")\n",
        "\n",
        "# Here is the function for task deletion\n",
        "def deltask():\n",
        "    vtasks()\n",
        "    if taskslist:\n",
        "      #lets ask the user about the task number they want to delete\n",
        "        tasknum = int(input(\"Can you please enter the task number you want me to delete: \"))\n",
        "        if 1 <= tasknum <= len(taskslist):\n",
        "            deltask = taskslist.pop(tasknum - 1)\n",
        "            print(f\"The task '{deltask}' has been deleted.\")\n",
        "        else:\n",
        "            print(\"OOPS! This is an invalid task number!\")\n",
        "    else:\n",
        "        print(\"UMMM! There is actualy no tasks to delete!\")\n",
        "\n",
        "# this is the main loop where magic will be happening and we will be calling all the functions\n",
        "\n",
        "while True:\n",
        "    #lets first call the command function to let the user know how to start\n",
        "    commands()\n",
        "    #lets take the input from the user based on the commands/instructions\n",
        "    uinput = input(\"Greetings! Would you like to enter your command number: \")\n",
        "    #now run the conditionalities and do the magic\n",
        "\n",
        "    if uinput == '1':\n",
        "      #lets call the addition function that we created above\n",
        "        taskaddition()\n",
        "      #After got done with the task addition, lets go with the view\n",
        "    elif uinput == '2':\n",
        "      #lets call the view function that we created above\n",
        "        vtasks()\n",
        "      #After got done with to view task, lets go with the updation\n",
        "    elif uinput == '3':\n",
        "      #lets call the view function that we created above\n",
        "        uptask()\n",
        "      #After got done with the update task, lets go with the deletion\n",
        "    elif uinput == '4':\n",
        "      #lets call the view function that we created above\n",
        "        deltask()\n",
        "    elif uinput == '5':\n",
        "        print(\"Alright! Quiting! Just exiting the To-Do List application. Take care!\")\n",
        "        break\n",
        "    else:\n",
        "        print(\"Ahh! You havent read the commands, thats why you entered the invalid command!\")\n"
      ],
      "metadata": {
        "colab": {
          "base_uri": "https://localhost:8080/"
        },
        "id": "CtqhBQTR-dZV",
        "outputId": "e7c20b3a-50c8-4080-9b65-7abe043afb19"
      },
      "execution_count": 8,
      "outputs": [
        {
          "output_type": "stream",
          "name": "stdout",
          "text": [
            " Here are the options to select from:\n",
            "    1 - Add task\n",
            "    2 - View tasks\n",
            "    3 - Update task\n",
            "    4 - Delete task\n",
            "    5 - Quit it \n",
            "Greetings! Would you like to enter your command number: 1\n",
            "Enter the task: Rohit\n",
            "WOHOO! The task has been successfully added.\n",
            " Here are the options to select from:\n",
            "    1 - Add task\n",
            "    2 - View tasks\n",
            "    3 - Update task\n",
            "    4 - Delete task\n",
            "    5 - Quit it \n",
            "Greetings! Would you like to enter your command number: 2\n",
            "Here are your tasks: \n",
            "1. Rohit\n",
            " Here are the options to select from:\n",
            "    1 - Add task\n",
            "    2 - View tasks\n",
            "    3 - Update task\n",
            "    4 - Delete task\n",
            "    5 - Quit it \n",
            "Greetings! Would you like to enter your command number: 3\n",
            "Here are your tasks: \n",
            "1. Rohit\n",
            "Can you please enter the task number you want me to update: Sharma\n",
            "Would you please enter a valid integer for the task number! Thanks,\n",
            " Here are the options to select from:\n",
            "    1 - Add task\n",
            "    2 - View tasks\n",
            "    3 - Update task\n",
            "    4 - Delete task\n",
            "    5 - Quit it \n",
            "Greetings! Would you like to enter your command number: 2\n",
            "Here are your tasks: \n",
            "1. Rohit\n",
            " Here are the options to select from:\n",
            "    1 - Add task\n",
            "    2 - View tasks\n",
            "    3 - Update task\n",
            "    4 - Delete task\n",
            "    5 - Quit it \n",
            "Greetings! Would you like to enter your command number: 3\n",
            "Here are your tasks: \n",
            "1. Rohit\n",
            "Can you please enter the task number you want me to update: 1\n",
            "Can you please enter the updated task: Sharma\n",
            "The task has been updated successfully!\n",
            " Here are the options to select from:\n",
            "    1 - Add task\n",
            "    2 - View tasks\n",
            "    3 - Update task\n",
            "    4 - Delete task\n",
            "    5 - Quit it \n",
            "Greetings! Would you like to enter your command number: 2\n",
            "Here are your tasks: \n",
            "1. Sharma\n",
            " Here are the options to select from:\n",
            "    1 - Add task\n",
            "    2 - View tasks\n",
            "    3 - Update task\n",
            "    4 - Delete task\n",
            "    5 - Quit it \n",
            "Greetings! Would you like to enter your command number: 4\n",
            "Here are your tasks: \n",
            "1. Sharma\n",
            "Can you please enter the task number you want me to delete: 1\n",
            "The task 'Sharma' has been deleted.\n",
            " Here are the options to select from:\n",
            "    1 - Add task\n",
            "    2 - View tasks\n",
            "    3 - Update task\n",
            "    4 - Delete task\n",
            "    5 - Quit it \n",
            "Greetings! Would you like to enter your command number: 5\n",
            "Alright! Quiting! Just exiting the To-Do List application. Take care!\n"
          ]
        }
      ]
    }
  ]
}